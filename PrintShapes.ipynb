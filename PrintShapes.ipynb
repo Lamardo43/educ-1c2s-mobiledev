{
 "cells": [
  {
   "cell_type": "code",
   "execution_count": 87,
   "metadata": {
    "dotnet_interactive": {
     "language": "csharp"
    },
    "polyglot_notebook": {
     "kernelName": "csharp"
    }
   },
   "outputs": [],
   "source": [
    "static void DrawPyramid(int baseSize, bool isHollow, char symbol) {\n",
    "    if (baseSize % 2 == 0) {\n",
    "        baseSize++;\n",
    "    }\n",
    "\n",
    "    int height = (baseSize + 1) / 2;\n",
    "\n",
    "    for (int i = 0; i < height; i++) {\n",
    "        int symbolsInRow = 2 * i + 1;\n",
    "        int spaces = (baseSize - symbolsInRow) / 2;\n",
    "\n",
    "        Console.Write(new string(' ', spaces));\n",
    "\n",
    "        if (!isHollow || i == 0 || i == height - 1) {\n",
    "            Console.WriteLine(new string(symbol, symbolsInRow));\n",
    "        }\n",
    "        else {\n",
    "            Console.Write(symbol);\n",
    "            if (symbolsInRow > 1) {\n",
    "                Console.Write(new string(' ', symbolsInRow - 2));\n",
    "                Console.Write(symbol);\n",
    "            }\n",
    "            Console.WriteLine();\n",
    "        }\n",
    "    }\n",
    "}"
   ]
  },
  {
   "cell_type": "code",
   "execution_count": 88,
   "metadata": {
    "dotnet_interactive": {
     "language": "csharp"
    },
    "polyglot_notebook": {
     "kernelName": "csharp"
    }
   },
   "outputs": [
    {
     "name": "stdout",
     "output_type": "stream",
     "text": [
      "      *\n",
      "     ***\n",
      "    *****\n",
      "   *******\n",
      "  *********\n",
      " ***********\n",
      "*************\n"
     ]
    }
   ],
   "source": [
    "DrawPyramid(13, false, '*')"
   ]
  },
  {
   "cell_type": "code",
   "execution_count": 89,
   "metadata": {
    "dotnet_interactive": {
     "language": "csharp"
    },
    "polyglot_notebook": {
     "kernelName": "csharp"
    }
   },
   "outputs": [
    {
     "name": "stdout",
     "output_type": "stream",
     "text": [
      "         +\n",
      "        + +\n",
      "       +   +\n",
      "      +     +\n",
      "     +       +\n",
      "    +         +\n",
      "   +           +\n",
      "  +             +\n",
      " +               +\n",
      "+++++++++++++++++++\n"
     ]
    }
   ],
   "source": [
    "DrawPyramid(19, true, '+')"
   ]
  },
  {
   "cell_type": "code",
   "execution_count": 90,
   "metadata": {
    "dotnet_interactive": {
     "language": "csharp"
    },
    "polyglot_notebook": {
     "kernelName": "csharp"
    }
   },
   "outputs": [],
   "source": [
    "static void DrawSnake(int height, int width, bool clockwise, bool vertical, char symbol)\n",
    "{\n",
    "    bool current_direction = clockwise;\n",
    "\n",
    "    if (vertical) {\n",
    "        for (int i = 0; i < width; i++) {\n",
    "            if (i % 2 == 0) {\n",
    "                Console.WriteLine(new string(symbol, height));\n",
    "            } else if (current_direction) {\n",
    "                Console.WriteLine(symbol);\n",
    "                current_direction = !current_direction;\n",
    "                continue;\n",
    "            } else if (!current_direction) {\n",
    "                Console.WriteLine(new string(' ', height - 1) + symbol);\n",
    "                current_direction = !current_direction;\n",
    "                continue;\n",
    "            }\n",
    "        }\n",
    "    }\n",
    "    else {\n",
    "        for (int i = 0; i < width; i++) {\n",
    "            string str = \"\";\n",
    "            for (int j = 0; j < height; j++) {\n",
    "                if (j % 2 == 0) {\n",
    "                    str += symbol;\n",
    "                } else if (i == 0 || i == width - 1) {\n",
    "                    if (current_direction){\n",
    "                        str += symbol;\n",
    "                        current_direction = !current_direction;\n",
    "                    } else {\n",
    "                        str += ' ';\n",
    "                        current_direction = !current_direction;\n",
    "                    }                    \n",
    "                } else {\n",
    "                    str += ' ';\n",
    "                }\n",
    "            }\n",
    "            Console.WriteLine(str);\n",
    "        }\n",
    "    }\n",
    "    \n",
    "}"
   ]
  },
  {
   "cell_type": "code",
   "execution_count": 91,
   "metadata": {
    "dotnet_interactive": {
     "language": "csharp"
    },
    "polyglot_notebook": {
     "kernelName": "csharp"
    }
   },
   "outputs": [
    {
     "name": "stdout",
     "output_type": "stream",
     "text": [
      "***************\n",
      "              *\n",
      "***************\n",
      "*\n",
      "***************\n",
      "              *\n",
      "***************\n"
     ]
    }
   ],
   "source": [
    "DrawSnake(15, 7, false, true, '*')"
   ]
  },
  {
   "cell_type": "code",
   "execution_count": 92,
   "metadata": {
    "dotnet_interactive": {
     "language": "csharp"
    },
    "polyglot_notebook": {
     "kernelName": "csharp"
    }
   },
   "outputs": [
    {
     "name": "stdout",
     "output_type": "stream",
     "text": [
      "*** ***\n",
      "* * * *\n",
      "* * * *\n",
      "* *** *\n"
     ]
    }
   ],
   "source": [
    "DrawSnake(7, 4, true, false, '*')"
   ]
  },
  {
   "cell_type": "code",
   "execution_count": 106,
   "metadata": {
    "dotnet_interactive": {
     "language": "csharp"
    },
    "polyglot_notebook": {
     "kernelName": "csharp"
    }
   },
   "outputs": [],
   "source": [
    "static void DrawNestedRectangles(char[] symbols)\n",
    "{\n",
    "    int n = symbols.Length;\n",
    "    int size = 2 * n - 1;\n",
    "\n",
    "    for (int i = 0; i < size; i++) {\n",
    "        string str = \"\";\n",
    "        for (int j = 0; j < size; j++) {\n",
    "            int layer = Math.Min(Math.Min(i, j), Math.Min(size - i - 1, size - j - 1));\n",
    "            str += symbols[layer];\n",
    "        }\n",
    "        Console.WriteLine(str);\n",
    "    }\n",
    "}"
   ]
  },
  {
   "cell_type": "code",
   "execution_count": 110,
   "metadata": {
    "dotnet_interactive": {
     "language": "csharp"
    },
    "polyglot_notebook": {
     "kernelName": "csharp"
    }
   },
   "outputs": [
    {
     "name": "stdout",
     "output_type": "stream",
     "text": [
      "+++++++++\n",
      "+-------+\n",
      "+-=====-+\n",
      "+-=@@@=-+\n",
      "+-=@.@=-+\n",
      "+-=@@@=-+\n",
      "+-=====-+\n",
      "+-------+\n",
      "+++++++++\n"
     ]
    }
   ],
   "source": [
    "DrawNestedRectangles(['+', '-', '=', '@', '.'])"
   ]
  }
 ],
 "metadata": {
  "kernelspec": {
   "display_name": ".NET (C#)",
   "language": "C#",
   "name": ".net-csharp"
  },
  "language_info": {
   "name": "polyglot-notebook"
  },
  "polyglot_notebook": {
   "kernelInfo": {
    "defaultKernelName": "csharp",
    "items": [
     {
      "aliases": [],
      "languageName": "csharp",
      "name": "csharp"
     }
    ]
   }
  }
 },
 "nbformat": 4,
 "nbformat_minor": 2
}
